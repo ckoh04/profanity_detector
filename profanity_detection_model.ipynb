{
  "nbformat": 4,
  "nbformat_minor": 0,
  "metadata": {
    "colab": {
      "name": "profanity_detection_model",
      "provenance": [],
      "collapsed_sections": [],
      "authorship_tag": "ABX9TyP8lbsRYEbRsbDp7BgLVBLd"
    },
    "kernelspec": {
      "name": "python3",
      "display_name": "Python 3"
    },
    "language_info": {
      "name": "python"
    }
  },
  "cells": [
    {
      "cell_type": "code",
      "metadata": {
        "id": "T0uVD-1uH0CC"
      },
      "source": [
        "'''\n",
        "X = tokenized_data[\"is_profanity\"]\n",
        "y = tokenized_data[\"comment_body\"]\n",
        "print(type(X))\n",
        "label_encoder = LabelEncoder() \n",
        "y = label_encoder.fit_transform(y)\n",
        "print(y)\n",
        "'''"
      ],
      "execution_count": null,
      "outputs": []
    },
    {
      "cell_type": "code",
      "metadata": {
        "id": "wzCHBbBb2AzC",
        "colab": {
          "base_uri": "https://localhost:8080/",
          "height": 204
        },
        "outputId": "950112a1-a263-4b33-a54b-3a7179464ddc"
      },
      "source": [
        "%tensorflow_version 1.x\n",
        "import sqlite3\n",
        "# Keras~=2.2.5\n",
        "import pandas as pd\n",
        "import os\n",
        "import keras\n",
        "import numpy as np\n",
        "import keras.backend.tensorflow_backend as K\n",
        "from keras.models import Model, Sequential\n",
        "from keras.layers import Dense, Embedding, Input, LSTM, Bidirectional, GlobalMaxPool1D, Dropout\n",
        "from keras.preprocessing.text import Tokenizer\n",
        "from keras.preprocessing import sequence\n",
        "from keras.callbacks import EarlyStopping, ModelCheckpoint\n",
        "from sklearn.model_selection import train_test_split\n",
        "from sklearn.preprocessing import LabelEncoder\n",
        "import matplotlib.pyplot as plt\n",
        "import tensorflow as tf\n",
        "import seaborn as sns\n",
        "config = tf.ConfigProto()\n",
        "config.gpu_options.allow_growth = True\n",
        "session = tf.Session(config=config)\n",
        "\n",
        "#con = sqlite3.connect(\"/content/sorted_tokenized_comments.db\")\n",
        "#tokenized_data = pd.read_sql(\"SELECT * FROM tok_comments\", con)\n",
        "df = pd.read_csv(\"sorted_tokenized_comments.csv\", delimiter= \",\", encoding=\"utf8\")\n",
        "df.comment_body= df.comment_body.astype(str)\n",
        "df.head()\n",
        "\n"
      ],
      "execution_count": 112,
      "outputs": [
        {
          "output_type": "execute_result",
          "data": {
            "text/html": [
              "<div>\n",
              "<style scoped>\n",
              "    .dataframe tbody tr th:only-of-type {\n",
              "        vertical-align: middle;\n",
              "    }\n",
              "\n",
              "    .dataframe tbody tr th {\n",
              "        vertical-align: top;\n",
              "    }\n",
              "\n",
              "    .dataframe thead th {\n",
              "        text-align: right;\n",
              "    }\n",
              "</style>\n",
              "<table border=\"1\" class=\"dataframe\">\n",
              "  <thead>\n",
              "    <tr style=\"text-align: right;\">\n",
              "      <th></th>\n",
              "      <th>Unnamed: 0</th>\n",
              "      <th>comment_id</th>\n",
              "      <th>date</th>\n",
              "      <th>title</th>\n",
              "      <th>body</th>\n",
              "      <th>comment_body</th>\n",
              "      <th>is_profanity</th>\n",
              "    </tr>\n",
              "  </thead>\n",
              "  <tbody>\n",
              "    <tr>\n",
              "      <th>0</th>\n",
              "      <td>0</td>\n",
              "      <td>0</td>\n",
              "      <td>2021-04-08 00:04:07</td>\n",
              "      <td>Vladimir Putin Faces Mass Russia Protest as Al...</td>\n",
              "      <td>NaN</td>\n",
              "      <td>he s literally in a prison run partially by ...</td>\n",
              "      <td>yes</td>\n",
              "    </tr>\n",
              "    <tr>\n",
              "      <th>1</th>\n",
              "      <td>1</td>\n",
              "      <td>1</td>\n",
              "      <td>2021-04-08 00:04:07</td>\n",
              "      <td>Vladimir Putin Faces Mass Russia Protest as Al...</td>\n",
              "      <td>NaN</td>\n",
              "      <td>i m sure some hard up prisoner will make that ...</td>\n",
              "      <td>yes</td>\n",
              "    </tr>\n",
              "    <tr>\n",
              "      <th>2</th>\n",
              "      <td>2</td>\n",
              "      <td>2</td>\n",
              "      <td>2021-04-08 00:04:07</td>\n",
              "      <td>Vladimir Putin Faces Mass Russia Protest as Al...</td>\n",
              "      <td>NaN</td>\n",
              "      <td>putin s siberian nightmare    surprised he did...</td>\n",
              "      <td>yes</td>\n",
              "    </tr>\n",
              "    <tr>\n",
              "      <th>3</th>\n",
              "      <td>3</td>\n",
              "      <td>3</td>\n",
              "      <td>2021-04-08 00:04:07</td>\n",
              "      <td>Vladimir Putin Faces Mass Russia Protest as Al...</td>\n",
              "      <td>NaN</td>\n",
              "      <td>i wish you could reach out and stop things lik...</td>\n",
              "      <td>no</td>\n",
              "    </tr>\n",
              "    <tr>\n",
              "      <th>4</th>\n",
              "      <td>4</td>\n",
              "      <td>4</td>\n",
              "      <td>2021-04-08 00:04:07</td>\n",
              "      <td>Vladimir Putin Faces Mass Russia Protest as Al...</td>\n",
              "      <td>NaN</td>\n",
              "      <td>russia   a man is willing to die for what h...</td>\n",
              "      <td>yes</td>\n",
              "    </tr>\n",
              "  </tbody>\n",
              "</table>\n",
              "</div>"
            ],
            "text/plain": [
              "   Unnamed: 0  ...  is_profanity\n",
              "0           0  ...           yes\n",
              "1           1  ...           yes\n",
              "2           2  ...           yes\n",
              "3           3  ...            no\n",
              "4           4  ...           yes\n",
              "\n",
              "[5 rows x 7 columns]"
            ]
          },
          "metadata": {
            "tags": []
          },
          "execution_count": 112
        }
      ]
    },
    {
      "cell_type": "code",
      "metadata": {
        "colab": {
          "base_uri": "https://localhost:8080/"
        },
        "id": "4KH0Sr3BIb2a",
        "outputId": "13e83138-8ed6-46b6-fe9a-e62d45f29c64"
      },
      "source": [
        "df.drop([\"Unnamed: 0\", \"comment_id\", \"date\", \"title\", \"body\"], axis=1, inplace=True)\n",
        "df.info()"
      ],
      "execution_count": 113,
      "outputs": [
        {
          "output_type": "stream",
          "text": [
            "<class 'pandas.core.frame.DataFrame'>\n",
            "RangeIndex: 49533 entries, 0 to 49532\n",
            "Data columns (total 2 columns):\n",
            " #   Column        Non-Null Count  Dtype \n",
            "---  ------        --------------  ----- \n",
            " 0   comment_body  49533 non-null  object\n",
            " 1   is_profanity  49533 non-null  object\n",
            "dtypes: object(2)\n",
            "memory usage: 774.1+ KB\n"
          ],
          "name": "stdout"
        }
      ]
    },
    {
      "cell_type": "code",
      "metadata": {
        "colab": {
          "base_uri": "https://localhost:8080/",
          "height": 204
        },
        "id": "rv3IXhGzIut-",
        "outputId": "ed4caa20-ed2f-438c-e846-b265a2ac6327"
      },
      "source": [
        "df.head()"
      ],
      "execution_count": 114,
      "outputs": [
        {
          "output_type": "execute_result",
          "data": {
            "text/html": [
              "<div>\n",
              "<style scoped>\n",
              "    .dataframe tbody tr th:only-of-type {\n",
              "        vertical-align: middle;\n",
              "    }\n",
              "\n",
              "    .dataframe tbody tr th {\n",
              "        vertical-align: top;\n",
              "    }\n",
              "\n",
              "    .dataframe thead th {\n",
              "        text-align: right;\n",
              "    }\n",
              "</style>\n",
              "<table border=\"1\" class=\"dataframe\">\n",
              "  <thead>\n",
              "    <tr style=\"text-align: right;\">\n",
              "      <th></th>\n",
              "      <th>comment_body</th>\n",
              "      <th>is_profanity</th>\n",
              "    </tr>\n",
              "  </thead>\n",
              "  <tbody>\n",
              "    <tr>\n",
              "      <th>0</th>\n",
              "      <td>he s literally in a prison run partially by ...</td>\n",
              "      <td>yes</td>\n",
              "    </tr>\n",
              "    <tr>\n",
              "      <th>1</th>\n",
              "      <td>i m sure some hard up prisoner will make that ...</td>\n",
              "      <td>yes</td>\n",
              "    </tr>\n",
              "    <tr>\n",
              "      <th>2</th>\n",
              "      <td>putin s siberian nightmare    surprised he did...</td>\n",
              "      <td>yes</td>\n",
              "    </tr>\n",
              "    <tr>\n",
              "      <th>3</th>\n",
              "      <td>i wish you could reach out and stop things lik...</td>\n",
              "      <td>no</td>\n",
              "    </tr>\n",
              "    <tr>\n",
              "      <th>4</th>\n",
              "      <td>russia   a man is willing to die for what h...</td>\n",
              "      <td>yes</td>\n",
              "    </tr>\n",
              "  </tbody>\n",
              "</table>\n",
              "</div>"
            ],
            "text/plain": [
              "                                        comment_body is_profanity\n",
              "0    he s literally in a prison run partially by ...          yes\n",
              "1  i m sure some hard up prisoner will make that ...          yes\n",
              "2  putin s siberian nightmare    surprised he did...          yes\n",
              "3  i wish you could reach out and stop things lik...           no\n",
              "4     russia   a man is willing to die for what h...          yes"
            ]
          },
          "metadata": {
            "tags": []
          },
          "execution_count": 114
        }
      ]
    },
    {
      "cell_type": "code",
      "metadata": {
        "colab": {
          "base_uri": "https://localhost:8080/",
          "height": 370
        },
        "id": "tycrt72XIx4O",
        "outputId": "997d8dd3-18f6-4cb0-de28-a1eb1756ee26"
      },
      "source": [
        "sns.countplot(df.is_profanity)\n",
        "plt.xlabel(\"is_profanity\")\n",
        "plt.title(\"count of profane and none profane comments\")"
      ],
      "execution_count": 115,
      "outputs": [
        {
          "output_type": "stream",
          "text": [
            "/usr/local/lib/python3.7/dist-packages/seaborn/_decorators.py:43: FutureWarning: Pass the following variable as a keyword arg: x. From version 0.12, the only valid positional argument will be `data`, and passing other arguments without an explicit keyword will result in an error or misinterpretation.\n",
            "  FutureWarning\n"
          ],
          "name": "stderr"
        },
        {
          "output_type": "execute_result",
          "data": {
            "text/plain": [
              "Text(0.5, 1.0, 'count of profane and none profane comments')"
            ]
          },
          "metadata": {
            "tags": []
          },
          "execution_count": 115
        },
        {
          "output_type": "display_data",
          "data": {
            "image/png": "[encoded data removed]",
            "text/plain": [
              "<Figure size 432x288 with 1 Axes>"
            ]
          },
          "metadata": {
            "tags": [],
            "needs_background": "light"
          }
        }
      ]
    },
    {
      "cell_type": "code",
      "metadata": {
        "colab": {
          "base_uri": "https://localhost:8080/"
        },
        "id": "HM4YbwbBJUz1",
        "outputId": "7db50203-e05e-43df-ca0c-da8a4c9bc3d9"
      },
      "source": [
        "X = df.comment_body.values\n",
        "y = df.is_profanity.values\n",
        "print(type(X))"
      ],
      "execution_count": 116,
      "outputs": [
        {
          "output_type": "stream",
          "text": [
            "<class 'numpy.ndarray'>\n"
          ],
          "name": "stdout"
        }
      ]
    },
    {
      "cell_type": "code",
      "metadata": {
        "colab": {
          "base_uri": "https://localhost:8080/"
        },
        "id": "FqoJNxV0KC5w",
        "outputId": "bb0f0664-392b-4b60-f178-c41abe28868b"
      },
      "source": [
        "label_encoder = LabelEncoder()\n",
        "y = label_encoder.fit_transform(y)\n",
        "print(y)\n"
      ],
      "execution_count": 117,
      "outputs": [
        {
          "output_type": "stream",
          "text": [
            "[1 1 1 ... 0 0 0]\n"
          ],
          "name": "stdout"
        }
      ]
    },
    {
      "cell_type": "code",
      "metadata": {
        "colab": {
          "base_uri": "https://localhost:8080/"
        },
        "id": "LrnA2YKdRWgb",
        "outputId": "d5dea675-8dc3-4e5b-eeb9-7b93c1a85a49"
      },
      "source": [
        "print(y.shape)\n",
        "print(X.shape)"
      ],
      "execution_count": 118,
      "outputs": [
        {
          "output_type": "stream",
          "text": [
            "(49533,)\n",
            "(49533,)\n"
          ],
          "name": "stdout"
        }
      ]
    },
    {
      "cell_type": "code",
      "metadata": {
        "id": "4f77h5EU6xrH"
      },
      "source": [
        "X_train, X_test, y_train, y_test = train_test_split(X, y, test_size = 0.2)"
      ],
      "execution_count": 119,
      "outputs": []
    },
    {
      "cell_type": "code",
      "metadata": {
        "id": "1X2-FqeCPxxG"
      },
      "source": [
        "max_words = 40000\n",
        "max_len = 1500\n",
        "\n",
        "tok = Tokenizer(num_words=max_words)\n",
        "tok.fit_on_texts(X_train)"
      ],
      "execution_count": 125,
      "outputs": []
    },
    {
      "cell_type": "code",
      "metadata": {
        "id": "9H8fE9gG7W-4"
      },
      "source": [
        "sequences = tok.texts_to_sequences(X_train)"
      ],
      "execution_count": 126,
      "outputs": []
    },
    {
      "cell_type": "code",
      "metadata": {
        "colab": {
          "base_uri": "https://localhost:8080/"
        },
        "id": "1C6yo5N7arTL",
        "outputId": "829dc94e-9ef2-4fc3-a90d-ac1986a062f2"
      },
      "source": [
        "count = 0 \n",
        "for i in sequences:\n",
        "  print(len(i))\n",
        "  count += 1 \n",
        "  if count > 10:\n",
        "    break"
      ],
      "execution_count": 127,
      "outputs": [
        {
          "output_type": "stream",
          "text": [
            "30\n",
            "19\n",
            "4\n",
            "27\n",
            "34\n",
            "4\n",
            "1\n",
            "16\n",
            "12\n",
            "22\n",
            "18\n"
          ],
          "name": "stdout"
        }
      ]
    },
    {
      "cell_type": "code",
      "metadata": {
        "colab": {
          "base_uri": "https://localhost:8080/"
        },
        "id": "r4XlmdUehFls",
        "outputId": "252d4068-c37a-4c5b-c289-1ad06b92beec"
      },
      "source": [
        "sequence_matrix = sequence.pad_sequences(sequences, maxlen=max_len)\n",
        "sequence_matrix[0]"
      ],
      "execution_count": 128,
      "outputs": [
        {
          "output_type": "execute_result",
          "data": {
            "text/plain": [
              "array([   0,    0,    0, ..., 6160,   24,    2], dtype=int32)"
            ]
          },
          "metadata": {
            "tags": []
          },
          "execution_count": 128
        }
      ]
    },
    {
      "cell_type": "code",
      "metadata": {
        "colab": {
          "base_uri": "https://localhost:8080/"
        },
        "id": "AaDJ-x_jPGtH",
        "outputId": "c72f0c40-ac59-4fb4-94a1-0502a1d6acfd"
      },
      "source": [
        "count = 0 \n",
        "for i in sequence_matrix:\n",
        "  print(i)\n",
        "  count += 1 \n",
        "  if count > 3: \n",
        "    break "
      ],
      "execution_count": 129,
      "outputs": [
        {
          "output_type": "stream",
          "text": [
            "[   0    0    0 ... 6160   24    2]\n",
            "[   0    0    0 ...   18 2453  360]\n",
            "[   0    0    0 ... 4105  893 1597]\n",
            "[   0    0    0 ...  136   23 9338]\n"
          ],
          "name": "stdout"
        }
      ]
    },
    {
      "cell_type": "code",
      "metadata": {
        "id": "SWprqJmz-DhZ"
      },
      "source": [
        "!mkdir -p saved_model\n",
        "model.save('saved_model/profanity_LSTM') "
      ],
      "execution_count": 130,
      "outputs": []
    },
    {
      "cell_type": "code",
      "metadata": {
        "id": "CFrdgpQXFtkc"
      },
      "source": [
        "with K.tf_ops.device('device:GPU:0'):\n",
        "    model = Sequential()\n",
        "    #max_words to 50 dim. so I will be putting 40000 words in to 50 dim. length of the word would be max_len\n",
        "    model.add(Embedding(max_words, 50, input_length=max_len))\n",
        "    model.add(LSTM(64))\n",
        "    model.add(Dense(256, activation='relu'))\n",
        "    model.add(Dropout(0.5))\n",
        "    model.add(Dense(1, activation='sigmoid'))\n",
        "    \n",
        "    model.compile(loss='binary_crossentropy',optimizer='adam',metrics=['accuracy'])\n",
        "    model_dir = 'saved_model/'\n",
        "    if not os.path.exists(model_dir):\n",
        "        os.mkdir(model_dir)\n",
        "    model_path = model_dir + \"profanity_LSTM\"\n",
        "    \n",
        "    checkpoint = ModelCheckpoint(filepath=model_path, monitor='val_loss', verbose=1, save_best_only=True)\n",
        "    early_stopping = EarlyStopping(monitor='val_loss', patience=7)"
      ],
      "execution_count": 131,
      "outputs": []
    },
    {
      "cell_type": "code",
      "metadata": {
        "colab": {
          "base_uri": "https://localhost:8080/"
        },
        "id": "ispjQS8IjWiH",
        "outputId": "e669c62c-391a-483a-aba5-9d290a4112f5"
      },
      "source": [
        "model.summary()"
      ],
      "execution_count": 132,
      "outputs": [
        {
          "output_type": "stream",
          "text": [
            "Model: \"sequential_8\"\n",
            "_________________________________________________________________\n",
            "Layer (type)                 Output Shape              Param #   \n",
            "=================================================================\n",
            "embedding_8 (Embedding)      (None, 1500, 50)          2000000   \n",
            "_________________________________________________________________\n",
            "lstm_8 (LSTM)                (None, 64)                29440     \n",
            "_________________________________________________________________\n",
            "dense_15 (Dense)             (None, 256)               16640     \n",
            "_________________________________________________________________\n",
            "dropout_8 (Dropout)          (None, 256)               0         \n",
            "_________________________________________________________________\n",
            "dense_16 (Dense)             (None, 1)                 257       \n",
            "=================================================================\n",
            "Total params: 2,046,337\n",
            "Trainable params: 2,046,337\n",
            "Non-trainable params: 0\n",
            "_________________________________________________________________\n"
          ],
          "name": "stdout"
        }
      ]
    },
    {
      "cell_type": "code",
      "metadata": {
        "colab": {
          "base_uri": "https://localhost:8080/"
        },
        "id": "0JxQCPcNOw9d",
        "outputId": "8b616fb6-2545-45fe-c8d6-3064cafd882d"
      },
      "source": [
        "hist = model.fit(sequence_matrix, y_train, batch_size=128, epochs=10, validation_split=0.2, callbacks=[checkpoint, early_stopping])"
      ],
      "execution_count": 133,
      "outputs": [
        {
          "output_type": "stream",
          "text": [
            "Train on 31700 samples, validate on 7926 samples\n",
            "Epoch 1/10\n",
            "31700/31700 [==============================] - 490s 15ms/step - loss: 0.4118 - accuracy: 0.8062 - val_loss: 0.2549 - val_accuracy: 0.8943\n",
            "\n",
            "Epoch 00001: val_loss improved from inf to 0.25488, saving model to saved_modelprofanity_LSTM\n",
            "Epoch 2/10\n",
            "31700/31700 [==============================] - 493s 16ms/step - loss: 0.1529 - accuracy: 0.9443 - val_loss: 0.2407 - val_accuracy: 0.9087\n",
            "\n",
            "Epoch 00002: val_loss improved from 0.25488 to 0.24072, saving model to saved_modelprofanity_LSTM\n",
            "Epoch 3/10\n",
            "31700/31700 [==============================] - 490s 15ms/step - loss: 0.0765 - accuracy: 0.9755 - val_loss: 0.2587 - val_accuracy: 0.9131\n",
            "\n",
            "Epoch 00003: val_loss did not improve from 0.24072\n",
            "Epoch 4/10\n",
            "31700/31700 [==============================] - 489s 15ms/step - loss: 0.0504 - accuracy: 0.9843 - val_loss: 0.2869 - val_accuracy: 0.9148\n",
            "\n",
            "Epoch 00004: val_loss did not improve from 0.24072\n",
            "Epoch 5/10\n",
            "31700/31700 [==============================] - 490s 15ms/step - loss: 0.0375 - accuracy: 0.9886 - val_loss: 0.3074 - val_accuracy: 0.9208\n",
            "\n",
            "Epoch 00005: val_loss did not improve from 0.24072\n",
            "Epoch 6/10\n",
            "31700/31700 [==============================] - 488s 15ms/step - loss: 0.0294 - accuracy: 0.9913 - val_loss: 0.3193 - val_accuracy: 0.9185\n",
            "\n",
            "Epoch 00006: val_loss did not improve from 0.24072\n",
            "Epoch 7/10\n",
            "31700/31700 [==============================] - 488s 15ms/step - loss: 0.0239 - accuracy: 0.9928 - val_loss: 0.3682 - val_accuracy: 0.9194\n",
            "\n",
            "Epoch 00007: val_loss did not improve from 0.24072\n",
            "Epoch 8/10\n",
            "31700/31700 [==============================] - 489s 15ms/step - loss: 0.0218 - accuracy: 0.9934 - val_loss: 0.3540 - val_accuracy: 0.9151\n",
            "\n",
            "Epoch 00008: val_loss did not improve from 0.24072\n",
            "Epoch 9/10\n",
            "31700/31700 [==============================] - 486s 15ms/step - loss: 0.0195 - accuracy: 0.9943 - val_loss: 0.3969 - val_accuracy: 0.9199\n",
            "\n",
            "Epoch 00009: val_loss did not improve from 0.24072\n"
          ],
          "name": "stdout"
        }
      ]
    },
    {
      "cell_type": "code",
      "metadata": {
        "colab": {
          "base_uri": "https://localhost:8080/"
        },
        "id": "Hl304XakGjUQ",
        "outputId": "7a1b712e-7805-455d-ddd7-aad0dad2b7fc"
      },
      "source": [
        "sequences_test = tok.texts_to_sequences(X_test)\n",
        "sequences_matrix_test = sequence.pad_sequences(sequences_test, maxlen=max_len)\n",
        "print(\"Accuracy : %.4f\" % (model.evaluate(sequences_matrix_test, y_test)[1]))"
      ],
      "execution_count": 134,
      "outputs": [
        {
          "output_type": "stream",
          "text": [
            "9907/9907 [==============================] - 56s 6ms/step\n",
            "Accuracy : 0.9200\n"
          ],
          "name": "stdout"
        }
      ]
    },
    {
      "cell_type": "code",
      "metadata": {
        "colab": {
          "base_uri": "https://localhost:8080/",
          "height": 279
        },
        "id": "FmP2d-Bafk1K",
        "outputId": "d559b2da-7a41-4fee-c575-44a2dee6f3bd"
      },
      "source": [
        "y_vloss = hist.history['val_loss']\n",
        "y_loss = hist.history['loss']\n",
        "\n",
        "x_len = np.arange(len(y_loss))\n",
        "\n",
        "plt.plot(x_len, y_vloss, marker='.', c='red', label='val_set_loss')\n",
        "plt.plot(x_len, y_loss, marker='.', c='blue', label='train_set_loss')\n",
        "plt.legend()\n",
        "plt.xlabel('epochs')\n",
        "plt.ylabel('loss')\n",
        "plt.grid()\n",
        "plt.show()"
      ],
      "execution_count": 136,
      "outputs": [
        {
          "output_type": "display_data",
          "data": {
            "image/png": "[encoded data removed]",
            "text/plain": [
              "<Figure size 432x288 with 1 Axes>"
            ]
          },
          "metadata": {
            "tags": [],
            "needs_background": "light"
          }
        }
      ]
    },
    {
      "cell_type": "code",
      "metadata": {
        "colab": {
          "base_uri": "https://localhost:8080/",
          "height": 279
        },
        "id": "ZPmR8hVSfsfC",
        "outputId": "3e0158ea-df60-4a0c-8304-055f1cb2801e"
      },
      "source": [
        "y_vloss = hist.history['val_accuracy']\n",
        "y_loss = hist.history['accuracy']\n",
        "\n",
        "x_len = np.arange(len(y_loss))\n",
        "\n",
        "plt.plot(x_len, y_vloss, marker='.', c='red', label='val_set_loss')\n",
        "plt.plot(x_len, y_loss, marker='.', c='blue', label='train_set_loss')\n",
        "plt.legend()\n",
        "plt.xlabel('epochs')\n",
        "plt.ylabel('loss')\n",
        "plt.grid()\n",
        "plt.show()"
      ],
      "execution_count": 140,
      "outputs": [
        {
          "output_type": "display_data",
          "data": {
            "image/png": "[encoded data removed]",
            "text/plain": [
              "<Figure size 432x288 with 1 Axes>"
            ]
          },
          "metadata": {
            "tags": [],
            "needs_background": "light"
          }
        }
      ]
    }
  ]
}