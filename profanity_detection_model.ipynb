{
  "nbformat": 4,
  "nbformat_minor": 0,
  "metadata": {
    "colab": {
      "name": "profanity_detection_model",
      "provenance": [],
      "collapsed_sections": [],
      "toc_visible": true,
      "authorship_tag": "ABX9TyPY2iPX1XHtRWUAqy8TuhNS"
    },
    "kernelspec": {
      "name": "python3",
      "display_name": "Python 3"
    },
    "language_info": {
      "name": "python"
    }
  },
  "cells": [
    {
      "cell_type": "code",
      "metadata": {
        "id": "T0uVD-1uH0CC",
        "colab": {
          "base_uri": "https://localhost:8080/",
          "height": 35
        },
        "outputId": "6dabfe67-8c4e-4344-de3e-5b76cef789ab"
      },
      "source": [
        "'''\n",
        "X = tokenized_data[\"is_profanity\"]\n",
        "y = tokenized_data[\"comment_body\"]\n",
        "print(type(X))\n",
        "label_encoder = LabelEncoder() \n",
        "y = label_encoder.fit_transform(y)\n",
        "print(y)\n",
        "'''"
      ],
      "execution_count": 1,
      "outputs": [
        {
          "output_type": "execute_result",
          "data": {
            "application/vnd.google.colaboratory.intrinsic+json": {
              "type": "string"
            },
            "text/plain": [
              "'\\nX = tokenized_data[\"is_profanity\"]\\ny = tokenized_data[\"comment_body\"]\\nprint(type(X))\\nlabel_encoder = LabelEncoder() \\ny = label_encoder.fit_transform(y)\\nprint(y)\\n'"
            ]
          },
          "metadata": {
            "tags": []
          },
          "execution_count": 1
        }
      ]
    },
    {
      "cell_type": "code",
      "metadata": {
        "id": "wzCHBbBb2AzC",
        "colab": {
          "base_uri": "https://localhost:8080/",
          "height": 240
        },
        "outputId": "fabd2327-faa0-4b53-ec57-8d93649cc96b"
      },
      "source": [
        "%tensorflow_version 1.x\n",
        "import sqlite3\n",
        "# Keras~=2.2.5\n",
        "import pandas as pd\n",
        "import os\n",
        "import keras\n",
        "import numpy as np\n",
        "import keras.backend.tensorflow_backend as K\n",
        "from keras.models import Model, Sequential, load_model\n",
        "from keras.layers import Dense, Embedding, Input, LSTM, Bidirectional, GlobalMaxPool1D, Dropout\n",
        "from keras.preprocessing.text import Tokenizer\n",
        "from keras.preprocessing import sequence\n",
        "import pickle\n",
        "from keras.callbacks import EarlyStopping, ModelCheckpoint\n",
        "from sklearn.model_selection import train_test_split\n",
        "from sklearn.preprocessing import LabelEncoder\n",
        "import matplotlib.pyplot as plt\n",
        "import tensorflow as tf\n",
        "import seaborn as sns\n",
        "config = tf.ConfigProto()\n",
        "config.gpu_options.allow_growth = True\n",
        "session = tf.Session(config=config)\n",
        "\n",
        "#con = sqlite3.connect(\"/content/sorted_tokenized_comments.db\")\n",
        "#tokenized_data = pd.read_sql(\"SELECT * FROM tok_comments\", con)\n",
        "df = pd.read_csv(\"sorted_tokenized_comments.csv\", delimiter= \",\", encoding=\"utf8\")\n",
        "df.comment_body= df.comment_body.astype(str)\n",
        "df.head()\n",
        "\n"
      ],
      "execution_count": 2,
      "outputs": [
        {
          "output_type": "stream",
          "text": [
            "TensorFlow 1.x selected.\n"
          ],
          "name": "stdout"
        },
        {
          "output_type": "stream",
          "text": [
            "Using TensorFlow backend.\n"
          ],
          "name": "stderr"
        },
        {
          "output_type": "execute_result",
          "data": {
            "text/html": [
              "<div>\n",
              "<style scoped>\n",
              "    .dataframe tbody tr th:only-of-type {\n",
              "        vertical-align: middle;\n",
              "    }\n",
              "\n",
              "    .dataframe tbody tr th {\n",
              "        vertical-align: top;\n",
              "    }\n",
              "\n",
              "    .dataframe thead th {\n",
              "        text-align: right;\n",
              "    }\n",
              "</style>\n",
              "<table border=\"1\" class=\"dataframe\">\n",
              "  <thead>\n",
              "    <tr style=\"text-align: right;\">\n",
              "      <th></th>\n",
              "      <th>Unnamed: 0</th>\n",
              "      <th>comment_id</th>\n",
              "      <th>date</th>\n",
              "      <th>title</th>\n",
              "      <th>body</th>\n",
              "      <th>comment_body</th>\n",
              "      <th>is_profanity</th>\n",
              "    </tr>\n",
              "  </thead>\n",
              "  <tbody>\n",
              "    <tr>\n",
              "      <th>0</th>\n",
              "      <td>0</td>\n",
              "      <td>0</td>\n",
              "      <td>2021-04-08 00:04:07</td>\n",
              "      <td>Vladimir Putin Faces Mass Russia Protest as Al...</td>\n",
              "      <td>NaN</td>\n",
              "      <td>he s literally in a prison run partially by ...</td>\n",
              "      <td>yes</td>\n",
              "    </tr>\n",
              "    <tr>\n",
              "      <th>1</th>\n",
              "      <td>1</td>\n",
              "      <td>1</td>\n",
              "      <td>2021-04-08 00:04:07</td>\n",
              "      <td>Vladimir Putin Faces Mass Russia Protest as Al...</td>\n",
              "      <td>NaN</td>\n",
              "      <td>i m sure some hard up prisoner will make that ...</td>\n",
              "      <td>yes</td>\n",
              "    </tr>\n",
              "    <tr>\n",
              "      <th>2</th>\n",
              "      <td>2</td>\n",
              "      <td>2</td>\n",
              "      <td>2021-04-08 00:04:07</td>\n",
              "      <td>Vladimir Putin Faces Mass Russia Protest as Al...</td>\n",
              "      <td>NaN</td>\n",
              "      <td>putin s siberian nightmare    surprised he did...</td>\n",
              "      <td>yes</td>\n",
              "    </tr>\n",
              "    <tr>\n",
              "      <th>3</th>\n",
              "      <td>3</td>\n",
              "      <td>3</td>\n",
              "      <td>2021-04-08 00:04:07</td>\n",
              "      <td>Vladimir Putin Faces Mass Russia Protest as Al...</td>\n",
              "      <td>NaN</td>\n",
              "      <td>i wish you could reach out and stop things lik...</td>\n",
              "      <td>no</td>\n",
              "    </tr>\n",
              "    <tr>\n",
              "      <th>4</th>\n",
              "      <td>4</td>\n",
              "      <td>4</td>\n",
              "      <td>2021-04-08 00:04:07</td>\n",
              "      <td>Vladimir Putin Faces Mass Russia Protest as Al...</td>\n",
              "      <td>NaN</td>\n",
              "      <td>russia   a man is willing to die for what h...</td>\n",
              "      <td>yes</td>\n",
              "    </tr>\n",
              "  </tbody>\n",
              "</table>\n",
              "</div>"
            ],
            "text/plain": [
              "   Unnamed: 0  ...  is_profanity\n",
              "0           0  ...           yes\n",
              "1           1  ...           yes\n",
              "2           2  ...           yes\n",
              "3           3  ...            no\n",
              "4           4  ...           yes\n",
              "\n",
              "[5 rows x 7 columns]"
            ]
          },
          "metadata": {
            "tags": []
          },
          "execution_count": 2
        }
      ]
    },
    {
      "cell_type": "code",
      "metadata": {
        "colab": {
          "base_uri": "https://localhost:8080/"
        },
        "id": "4KH0Sr3BIb2a",
        "outputId": "29864d2e-8c1e-4857-832a-10298974c4be"
      },
      "source": [
        "df.drop([\"Unnamed: 0\", \"comment_id\", \"date\", \"title\", \"body\"], axis=1, inplace=True)\n",
        "df.info()"
      ],
      "execution_count": 3,
      "outputs": [
        {
          "output_type": "stream",
          "text": [
            "<class 'pandas.core.frame.DataFrame'>\n",
            "RangeIndex: 49533 entries, 0 to 49532\n",
            "Data columns (total 2 columns):\n",
            " #   Column        Non-Null Count  Dtype \n",
            "---  ------        --------------  ----- \n",
            " 0   comment_body  49533 non-null  object\n",
            " 1   is_profanity  49533 non-null  object\n",
            "dtypes: object(2)\n",
            "memory usage: 774.1+ KB\n"
          ],
          "name": "stdout"
        }
      ]
    },
    {
      "cell_type": "code",
      "metadata": {
        "colab": {
          "base_uri": "https://localhost:8080/",
          "height": 204
        },
        "id": "rv3IXhGzIut-",
        "outputId": "338c573d-6ad4-4309-e89f-a31b9e0af709"
      },
      "source": [
        "df.head()"
      ],
      "execution_count": 4,
      "outputs": [
        {
          "output_type": "execute_result",
          "data": {
            "text/html": [
              "<div>\n",
              "<style scoped>\n",
              "    .dataframe tbody tr th:only-of-type {\n",
              "        vertical-align: middle;\n",
              "    }\n",
              "\n",
              "    .dataframe tbody tr th {\n",
              "        vertical-align: top;\n",
              "    }\n",
              "\n",
              "    .dataframe thead th {\n",
              "        text-align: right;\n",
              "    }\n",
              "</style>\n",
              "<table border=\"1\" class=\"dataframe\">\n",
              "  <thead>\n",
              "    <tr style=\"text-align: right;\">\n",
              "      <th></th>\n",
              "      <th>comment_body</th>\n",
              "      <th>is_profanity</th>\n",
              "    </tr>\n",
              "  </thead>\n",
              "  <tbody>\n",
              "    <tr>\n",
              "      <th>0</th>\n",
              "      <td>he s literally in a prison run partially by ...</td>\n",
              "      <td>yes</td>\n",
              "    </tr>\n",
              "    <tr>\n",
              "      <th>1</th>\n",
              "      <td>i m sure some hard up prisoner will make that ...</td>\n",
              "      <td>yes</td>\n",
              "    </tr>\n",
              "    <tr>\n",
              "      <th>2</th>\n",
              "      <td>putin s siberian nightmare    surprised he did...</td>\n",
              "      <td>yes</td>\n",
              "    </tr>\n",
              "    <tr>\n",
              "      <th>3</th>\n",
              "      <td>i wish you could reach out and stop things lik...</td>\n",
              "      <td>no</td>\n",
              "    </tr>\n",
              "    <tr>\n",
              "      <th>4</th>\n",
              "      <td>russia   a man is willing to die for what h...</td>\n",
              "      <td>yes</td>\n",
              "    </tr>\n",
              "  </tbody>\n",
              "</table>\n",
              "</div>"
            ],
            "text/plain": [
              "                                        comment_body is_profanity\n",
              "0    he s literally in a prison run partially by ...          yes\n",
              "1  i m sure some hard up prisoner will make that ...          yes\n",
              "2  putin s siberian nightmare    surprised he did...          yes\n",
              "3  i wish you could reach out and stop things lik...           no\n",
              "4     russia   a man is willing to die for what h...          yes"
            ]
          },
          "metadata": {
            "tags": []
          },
          "execution_count": 4
        }
      ]
    },
    {
      "cell_type": "code",
      "metadata": {
        "colab": {
          "base_uri": "https://localhost:8080/",
          "height": 370
        },
        "id": "tycrt72XIx4O",
        "outputId": "70825ac2-3620-40ef-ccf8-620fd0a0147b"
      },
      "source": [
        "sns.countplot(df.is_profanity)\n",
        "plt.xlabel(\"is_profanity\")\n",
        "plt.title(\"count of profane and none profane comments\")"
      ],
      "execution_count": 5,
      "outputs": [
        {
          "output_type": "stream",
          "text": [
            "/usr/local/lib/python3.7/dist-packages/seaborn/_decorators.py:43: FutureWarning: Pass the following variable as a keyword arg: x. From version 0.12, the only valid positional argument will be `data`, and passing other arguments without an explicit keyword will result in an error or misinterpretation.\n",
            "  FutureWarning\n"
          ],
          "name": "stderr"
        },
        {
          "output_type": "execute_result",
          "data": {
            "text/plain": [
              "Text(0.5, 1.0, 'count of profane and none profane comments')"
            ]
          },
          "metadata": {
            "tags": []
          },
          "execution_count": 5
        },
        {
          "output_type": "display_data",
          "data": {
            "image/png": "[encoded data removed]",
            "text/plain": [
              "<Figure size 432x288 with 1 Axes>"
            ]
          },
          "metadata": {
            "tags": [],
            "needs_background": "light"
          }
        }
      ]
    },
    {
      "cell_type": "code",
      "metadata": {
        "colab": {
          "base_uri": "https://localhost:8080/"
        },
        "id": "HM4YbwbBJUz1",
        "outputId": "d42ac5a5-7e3c-4531-9d21-019b368f8682"
      },
      "source": [
        "X = df.comment_body.values\n",
        "y = df.is_profanity.values\n",
        "print(type(X))"
      ],
      "execution_count": 6,
      "outputs": [
        {
          "output_type": "stream",
          "text": [
            "<class 'numpy.ndarray'>\n"
          ],
          "name": "stdout"
        }
      ]
    },
    {
      "cell_type": "code",
      "metadata": {
        "colab": {
          "base_uri": "https://localhost:8080/"
        },
        "id": "FqoJNxV0KC5w",
        "outputId": "8cb086d6-29e6-4a18-d545-5af14ac09fde"
      },
      "source": [
        "label_encoder = LabelEncoder()\n",
        "y = label_encoder.fit_transform(y)\n",
        "print(y)\n"
      ],
      "execution_count": 7,
      "outputs": [
        {
          "output_type": "stream",
          "text": [
            "[1 1 1 ... 0 0 0]\n"
          ],
          "name": "stdout"
        }
      ]
    },
    {
      "cell_type": "code",
      "metadata": {
        "colab": {
          "base_uri": "https://localhost:8080/"
        },
        "id": "LrnA2YKdRWgb",
        "outputId": "03f453eb-65db-4bcd-d8a7-fceed7e2039c"
      },
      "source": [
        "print(y.shape)\n",
        "print(X.shape)"
      ],
      "execution_count": 8,
      "outputs": [
        {
          "output_type": "stream",
          "text": [
            "(49533,)\n",
            "(49533,)\n"
          ],
          "name": "stdout"
        }
      ]
    },
    {
      "cell_type": "code",
      "metadata": {
        "id": "4f77h5EU6xrH"
      },
      "source": [
        "X_train, X_test, y_train, y_test = train_test_split(X, y, test_size = 0.2)"
      ],
      "execution_count": 9,
      "outputs": []
    },
    {
      "cell_type": "code",
      "metadata": {
        "id": "1X2-FqeCPxxG"
      },
      "source": [
        "max_words = 40000\n",
        "max_len = 1500\n",
        "\n",
        "tok = Tokenizer(num_words=max_words)\n",
        "tok.fit_on_texts(X_train)"
      ],
      "execution_count": 10,
      "outputs": []
    },
    {
      "cell_type": "code",
      "metadata": {
        "id": "9H8fE9gG7W-4"
      },
      "source": [
        "sequences = tok.texts_to_sequences(X_train)"
      ],
      "execution_count": 11,
      "outputs": []
    },
    {
      "cell_type": "code",
      "metadata": {
        "colab": {
          "base_uri": "https://localhost:8080/"
        },
        "id": "1C6yo5N7arTL",
        "outputId": "38ceefc6-8d6f-4e2e-d41c-8da3e7e6cd56"
      },
      "source": [
        "count = 0 \n",
        "for i in sequences:\n",
        "  print(len(i))\n",
        "  count += 1 \n",
        "  if count > 10:\n",
        "    break"
      ],
      "execution_count": 12,
      "outputs": [
        {
          "output_type": "stream",
          "text": [
            "7\n",
            "1\n",
            "34\n",
            "1\n",
            "13\n",
            "22\n",
            "18\n",
            "14\n",
            "15\n",
            "19\n",
            "1\n"
          ],
          "name": "stdout"
        }
      ]
    },
    {
      "cell_type": "code",
      "metadata": {
        "colab": {
          "base_uri": "https://localhost:8080/"
        },
        "id": "r4XlmdUehFls",
        "outputId": "be511003-a892-4481-9c80-ab69caf375ff"
      },
      "source": [
        "sequence_matrix = sequence.pad_sequences(sequences, maxlen=max_len)\n",
        "sequence_matrix[0]"
      ],
      "execution_count": 13,
      "outputs": [
        {
          "output_type": "execute_result",
          "data": {
            "text/plain": [
              "array([  0,   0,   0, ...,  12,  29, 218], dtype=int32)"
            ]
          },
          "metadata": {
            "tags": []
          },
          "execution_count": 13
        }
      ]
    },
    {
      "cell_type": "code",
      "metadata": {
        "colab": {
          "base_uri": "https://localhost:8080/"
        },
        "id": "AaDJ-x_jPGtH",
        "outputId": "b41dc759-43d2-4064-b315-bc7bf82537f6"
      },
      "source": [
        "count = 0 \n",
        "for i in sequence_matrix:\n",
        "  print(i)\n",
        "  count += 1 \n",
        "  if count > 3: \n",
        "    break "
      ],
      "execution_count": 14,
      "outputs": [
        {
          "output_type": "stream",
          "text": [
            "[  0   0   0 ...  12  29 218]\n",
            "[   0    0    0 ...    0    0 1103]\n",
            "[   0    0    0 ... 2301   17 6908]\n",
            "[   0    0    0 ...    0    0 2387]\n"
          ],
          "name": "stdout"
        }
      ]
    },
    {
      "cell_type": "code",
      "metadata": {
        "id": "CFrdgpQXFtkc",
        "colab": {
          "base_uri": "https://localhost:8080/"
        },
        "outputId": "355be1d1-16f4-4ac1-fac1-a9fae6254779"
      },
      "source": [
        "with K.tf_ops.device('device:GPU:0'):\n",
        "    model = Sequential()\n",
        "    #max_words to 50 dim. so I will be putting 40000 words in to 50 dim. length of the word would be max_len\n",
        "    model.add(Embedding(max_words, 50, input_length=max_len))\n",
        "    model.add(LSTM(64))\n",
        "    model.add(Dense(256, activation='relu'))\n",
        "    model.add(Dropout(0.5))\n",
        "    model.add(Dense(1, activation='sigmoid'))\n",
        "    \n",
        "    model.compile(loss='binary_crossentropy',optimizer='adam',metrics=['accuracy'])\n",
        "    model_dir = 'saved_model/'\n",
        "    if not os.path.exists(model_dir):\n",
        "        os.mkdir(model_dir)\n",
        "    model_path = model_dir + \"profanity_LSTM\"\n",
        "    \n",
        "    checkpoint = ModelCheckpoint(filepath=model_path, monitor='val_loss', verbose=1, save_best_only=True)\n",
        "    early_stopping = EarlyStopping(monitor='val_loss', patience=7)"
      ],
      "execution_count": 17,
      "outputs": [
        {
          "output_type": "stream",
          "text": [
            "WARNING:tensorflow:From /tensorflow-1.15.2/python3.7/tensorflow_core/python/ops/resource_variable_ops.py:1630: calling BaseResourceVariable.__init__ (from tensorflow.python.ops.resource_variable_ops) with constraint is deprecated and will be removed in a future version.\n",
            "Instructions for updating:\n",
            "If using Keras pass *_constraint arguments to layers.\n",
            "WARNING:tensorflow:From /tensorflow-1.15.2/python3.7/tensorflow_core/python/ops/nn_impl.py:183: where (from tensorflow.python.ops.array_ops) is deprecated and will be removed in a future version.\n",
            "Instructions for updating:\n",
            "Use tf.where in 2.0, which has the same broadcast rule as np.where\n"
          ],
          "name": "stdout"
        }
      ]
    },
    {
      "cell_type": "code",
      "metadata": {
        "id": "SWprqJmz-DhZ"
      },
      "source": [
        "!mkdir -p saved_model\n",
        "model.save('saved_model/profanity_LSTM') "
      ],
      "execution_count": 18,
      "outputs": []
    },
    {
      "cell_type": "code",
      "metadata": {
        "colab": {
          "base_uri": "https://localhost:8080/"
        },
        "id": "ispjQS8IjWiH",
        "outputId": "65ea19cd-9bc7-49b4-9201-230cec38aadc"
      },
      "source": [
        "model.summary()"
      ],
      "execution_count": 19,
      "outputs": [
        {
          "output_type": "stream",
          "text": [
            "Model: \"sequential_1\"\n",
            "_________________________________________________________________\n",
            "Layer (type)                 Output Shape              Param #   \n",
            "=================================================================\n",
            "embedding_1 (Embedding)      (None, 1500, 50)          2000000   \n",
            "_________________________________________________________________\n",
            "lstm_1 (LSTM)                (None, 64)                29440     \n",
            "_________________________________________________________________\n",
            "dense_1 (Dense)              (None, 256)               16640     \n",
            "_________________________________________________________________\n",
            "dropout_1 (Dropout)          (None, 256)               0         \n",
            "_________________________________________________________________\n",
            "dense_2 (Dense)              (None, 1)                 257       \n",
            "=================================================================\n",
            "Total params: 2,046,337\n",
            "Trainable params: 2,046,337\n",
            "Non-trainable params: 0\n",
            "_________________________________________________________________\n"
          ],
          "name": "stdout"
        }
      ]
    },
    {
      "cell_type": "code",
      "metadata": {
        "colab": {
          "base_uri": "https://localhost:8080/"
        },
        "id": "0JxQCPcNOw9d",
        "outputId": "a39370bc-0e43-43ef-b9bd-07a7f4fc933f"
      },
      "source": [
        "hist = model.fit(sequence_matrix, y_train, batch_size=128, epochs=10, validation_split=0.2, callbacks=[checkpoint, early_stopping])"
      ],
      "execution_count": 20,
      "outputs": [
        {
          "output_type": "stream",
          "text": [
            "WARNING:tensorflow:From /tensorflow-1.15.2/python3.7/keras/backend/tensorflow_backend.py:422: The name tf.global_variables is deprecated. Please use tf.compat.v1.global_variables instead.\n",
            "\n",
            "Train on 31700 samples, validate on 7926 samples\n",
            "Epoch 1/10\n",
            "31700/31700 [==============================] - 523s 17ms/step - loss: 0.4157 - accuracy: 0.8013 - val_loss: 0.2649 - val_accuracy: 0.8862\n",
            "\n",
            "Epoch 00001: val_loss improved from inf to 0.26494, saving model to saved_model/profanity_LSTM\n",
            "Epoch 2/10\n",
            "31700/31700 [==============================] - 523s 16ms/step - loss: 0.1523 - accuracy: 0.9471 - val_loss: 0.2281 - val_accuracy: 0.9111\n",
            "\n",
            "Epoch 00002: val_loss improved from 0.26494 to 0.22807, saving model to saved_model/profanity_LSTM\n",
            "Epoch 3/10\n",
            "31700/31700 [==============================] - 522s 16ms/step - loss: 0.0732 - accuracy: 0.9765 - val_loss: 0.2798 - val_accuracy: 0.9063\n",
            "\n",
            "Epoch 00003: val_loss did not improve from 0.22807\n",
            "Epoch 4/10\n",
            "31700/31700 [==============================] - 522s 16ms/step - loss: 0.0445 - accuracy: 0.9861 - val_loss: 0.3311 - val_accuracy: 0.9196\n",
            "\n",
            "Epoch 00004: val_loss did not improve from 0.22807\n",
            "Epoch 5/10\n",
            "31700/31700 [==============================] - 522s 16ms/step - loss: 0.0323 - accuracy: 0.9907 - val_loss: 0.3237 - val_accuracy: 0.9196\n",
            "\n",
            "Epoch 00005: val_loss did not improve from 0.22807\n",
            "Epoch 6/10\n",
            "31700/31700 [==============================] - 522s 16ms/step - loss: 0.0236 - accuracy: 0.9930 - val_loss: 0.3738 - val_accuracy: 0.9174\n",
            "\n",
            "Epoch 00006: val_loss did not improve from 0.22807\n",
            "Epoch 7/10\n",
            "31700/31700 [==============================] - 522s 16ms/step - loss: 0.0199 - accuracy: 0.9941 - val_loss: 0.4189 - val_accuracy: 0.9205\n",
            "\n",
            "Epoch 00007: val_loss did not improve from 0.22807\n",
            "Epoch 8/10\n",
            "31700/31700 [==============================] - 520s 16ms/step - loss: 0.0171 - accuracy: 0.9950 - val_loss: 0.4049 - val_accuracy: 0.9184\n",
            "\n",
            "Epoch 00008: val_loss did not improve from 0.22807\n",
            "Epoch 9/10\n",
            "31700/31700 [==============================] - 520s 16ms/step - loss: 0.0136 - accuracy: 0.9960 - val_loss: 0.4340 - val_accuracy: 0.9220\n",
            "\n",
            "Epoch 00009: val_loss did not improve from 0.22807\n"
          ],
          "name": "stdout"
        }
      ]
    },
    {
      "cell_type": "code",
      "metadata": {
        "colab": {
          "base_uri": "https://localhost:8080/"
        },
        "id": "Hl304XakGjUQ",
        "outputId": "26f45271-b940-4209-92db-5d29dc2eae36"
      },
      "source": [
        "sequences_test = tok.texts_to_sequences(X_test)\n",
        "sequences_matrix_test = sequence.pad_sequences(sequences_test, maxlen=max_len)\n",
        "print(\"Accuracy : %.4f\" % (model.evaluate(sequences_matrix_test, y_test)[1]))"
      ],
      "execution_count": 21,
      "outputs": [
        {
          "output_type": "stream",
          "text": [
            "9907/9907 [==============================] - 58s 6ms/step\n",
            "Accuracy : 0.9191\n"
          ],
          "name": "stdout"
        }
      ]
    },
    {
      "cell_type": "code",
      "metadata": {
        "colab": {
          "base_uri": "https://localhost:8080/",
          "height": 279
        },
        "id": "FmP2d-Bafk1K",
        "outputId": "92ecfcfe-96d6-40da-ee5b-347bbe1df68f"
      },
      "source": [
        "y_vloss = hist.history['val_loss']\n",
        "y_loss = hist.history['loss']\n",
        "\n",
        "x_len = np.arange(len(y_loss))\n",
        "\n",
        "plt.plot(x_len, y_vloss, marker='.', c='red', label='val_set_loss')\n",
        "plt.plot(x_len, y_loss, marker='.', c='blue', label='train_set_loss')\n",
        "plt.legend()\n",
        "plt.xlabel('epochs')\n",
        "plt.ylabel('loss')\n",
        "plt.grid()\n",
        "plt.show()"
      ],
      "execution_count": 22,
      "outputs": [
        {
          "output_type": "display_data",
          "data": {
            "image/png": "[encoded data removed]",
            "text/plain": [
              "<Figure size 432x288 with 1 Axes>"
            ]
          },
          "metadata": {
            "tags": [],
            "needs_background": "light"
          }
        }
      ]
    },
    {
      "cell_type": "code",
      "metadata": {
        "colab": {
          "base_uri": "https://localhost:8080/",
          "height": 279
        },
        "id": "ZPmR8hVSfsfC",
        "outputId": "0c7e95d4-65d7-4f57-cdce-fb6fcae81803"
      },
      "source": [
        "y_vloss = hist.history['val_accuracy']\n",
        "y_loss = hist.history['accuracy']\n",
        "\n",
        "x_len = np.arange(len(y_loss))\n",
        "\n",
        "plt.plot(x_len, y_vloss, marker='.', c='red', label='val_set_loss')\n",
        "plt.plot(x_len, y_loss, marker='.', c='blue', label='train_set_loss')\n",
        "plt.legend()\n",
        "plt.xlabel('epochs')\n",
        "plt.ylabel('loss')\n",
        "plt.grid()\n",
        "plt.show()"
      ],
      "execution_count": 23,
      "outputs": [
        {
          "output_type": "display_data",
          "data": {
            "image/png": "[encoded data removed]",
            "text/plain": [
              "<Figure size 432x288 with 1 Axes>"
            ]
          },
          "metadata": {
            "tags": [],
            "needs_background": "light"
          }
        }
      ]
    },
    {
      "cell_type": "code",
      "metadata": {
        "colab": {
          "base_uri": "https://localhost:8080/"
        },
        "id": "aYn7xf7vH0Hu",
        "outputId": "b308eacc-3a13-4bee-e93b-8b296f515a4d"
      },
      "source": [
        "new_model = tf.keras.models.load_model(\"saved_model/profanity_LSTM\")\n",
        "new_model.summary()"
      ],
      "execution_count": 24,
      "outputs": [
        {
          "output_type": "stream",
          "text": [
            "WARNING:tensorflow:From /tensorflow-1.15.2/python3.7/tensorflow_core/python/keras/initializers.py:119: calling RandomUniform.__init__ (from tensorflow.python.ops.init_ops) with dtype is deprecated and will be removed in a future version.\n",
            "Instructions for updating:\n",
            "Call initializer instance with the dtype argument instead of passing it to the constructor\n",
            "Model: \"sequential_1\"\n",
            "_________________________________________________________________\n",
            "Layer (type)                 Output Shape              Param #   \n",
            "=================================================================\n",
            "embedding_1 (Embedding)      (None, 1500, 50)          2000000   \n",
            "_________________________________________________________________\n",
            "lstm_1 (LSTM)                (None, 64)                29440     \n",
            "_________________________________________________________________\n",
            "dense_1 (Dense)              (None, 256)               16640     \n",
            "_________________________________________________________________\n",
            "dropout_1 (Dropout)          (None, 256)               0         \n",
            "_________________________________________________________________\n",
            "dense_2 (Dense)              (None, 1)                 257       \n",
            "=================================================================\n",
            "Total params: 2,046,337\n",
            "Trainable params: 2,046,337\n",
            "Non-trainable params: 0\n",
            "_________________________________________________________________\n"
          ],
          "name": "stdout"
        }
      ]
    },
    {
      "cell_type": "code",
      "metadata": {
        "id": "1euhJJoWIgJc"
      },
      "source": [
        "string = [\"Shit. I think I forgot my keys.\", \"I am happy.\"]"
      ],
      "execution_count": 99,
      "outputs": []
    },
    {
      "cell_type": "code",
      "metadata": {
        "id": "MuEvxI_JJF3X"
      },
      "source": [
        "tokenized_string = tok.texts_to_sequences(string)"
      ],
      "execution_count": 100,
      "outputs": []
    },
    {
      "cell_type": "code",
      "metadata": {
        "colab": {
          "base_uri": "https://localhost:8080/"
        },
        "id": "FEIEuOXlJKQO",
        "outputId": "a11df417-afb0-4c93-be94-1814420a9474"
      },
      "source": [
        "tokenized_string"
      ],
      "execution_count": 101,
      "outputs": [
        {
          "output_type": "execute_result",
          "data": {
            "text/plain": [
              "[[162, 6, 71, 6, 1150, 27, 4660], [6, 251, 478]]"
            ]
          },
          "metadata": {
            "tags": []
          },
          "execution_count": 101
        }
      ]
    },
    {
      "cell_type": "code",
      "metadata": {
        "id": "9pqtNRyUJQFJ"
      },
      "source": [
        "tokenized_string = sequence.pad_sequences(tokenized_string, maxlen = 1500)"
      ],
      "execution_count": 102,
      "outputs": []
    },
    {
      "cell_type": "code",
      "metadata": {
        "colab": {
          "base_uri": "https://localhost:8080/"
        },
        "id": "qhydh2bhJVrw",
        "outputId": "17c19f37-771b-4f8a-b020-4e36394f280d"
      },
      "source": [
        "tokenized_string"
      ],
      "execution_count": 103,
      "outputs": [
        {
          "output_type": "execute_result",
          "data": {
            "text/plain": [
              "array([[   0,    0,    0, ..., 1150,   27, 4660],\n",
              "       [   0,    0,    0, ...,    6,  251,  478]], dtype=int32)"
            ]
          },
          "metadata": {
            "tags": []
          },
          "execution_count": 103
        }
      ]
    },
    {
      "cell_type": "code",
      "metadata": {
        "id": "XBj8sRJlJaq3"
      },
      "source": [
        "prediction = model.predict(tokenized_string)"
      ],
      "execution_count": 104,
      "outputs": []
    },
    {
      "cell_type": "code",
      "metadata": {
        "colab": {
          "base_uri": "https://localhost:8080/"
        },
        "id": "K8EGbhxJJgKr",
        "outputId": "726d9231-a97c-4574-b3dd-14bc9c9d5198"
      },
      "source": [
        "prediction"
      ],
      "execution_count": 105,
      "outputs": [
        {
          "output_type": "execute_result",
          "data": {
            "text/plain": [
              "array([[9.7867227e-01],\n",
              "       [5.6442143e-05]], dtype=float32)"
            ]
          },
          "metadata": {
            "tags": []
          },
          "execution_count": 105
        }
      ]
    },
    {
      "cell_type": "code",
      "metadata": {
        "colab": {
          "base_uri": "https://localhost:8080/"
        },
        "id": "D8uaIzuOKIM6",
        "outputId": "69f80b42-9088-4537-c4a4-d77e3a9d73c1"
      },
      "source": [
        "for word in prediction:\n",
        "  if word > 0.5 : print(\"profanity \")\n",
        "  else: print(\"not profanity\") "
      ],
      "execution_count": 117,
      "outputs": [
        {
          "output_type": "stream",
          "text": [
            "profanity \n",
            "not profanity\n"
          ],
          "name": "stdout"
        }
      ]
    }
  ]
}