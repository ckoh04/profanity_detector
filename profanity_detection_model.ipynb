{
  "nbformat": 4,
  "nbformat_minor": 0,
  "metadata": {
    "colab": {
      "name": "profanity_detection_model",
      "provenance": [],
      "collapsed_sections": [],
      "toc_visible": true,
      "authorship_tag": "ABX9TyPiPoQL5KYrO2Q8H0FBDIoO"
    },
    "kernelspec": {
      "name": "python3",
      "display_name": "Python 3"
    },
    "language_info": {
      "name": "python"
    }
  },
  "cells": [
    {
      "cell_type": "code",
      "metadata": {
        "id": "T0uVD-1uH0CC",
        "colab": {
          "base_uri": "https://localhost:8080/",
          "height": 35
        },
        "outputId": "6dabfe67-8c4e-4344-de3e-5b76cef789ab"
      },
      "source": [
        "'''\n",
        "X = tokenized_data[\"is_profanity\"]\n",
        "y = tokenized_data[\"comment_body\"]\n",
        "print(type(X))\n",
        "label_encoder = LabelEncoder() \n",
        "y = label_encoder.fit_transform(y)\n",
        "print(y)\n",
        "'''"
      ],
      "execution_count": null,
      "outputs": [
        {
          "output_type": "execute_result",
          "data": {
            "application/vnd.google.colaboratory.intrinsic+json": {
              "type": "string"
            },
            "text/plain": [
              "'\\nX = tokenized_data[\"is_profanity\"]\\ny = tokenized_data[\"comment_body\"]\\nprint(type(X))\\nlabel_encoder = LabelEncoder() \\ny = label_encoder.fit_transform(y)\\nprint(y)\\n'"
            ]
          },
          "metadata": {
            "tags": []
          },
          "execution_count": 1
        }
      ]
    },
    {
      "cell_type": "code",
      "metadata": {
        "id": "wzCHBbBb2AzC",
        "colab": {
          "base_uri": "https://localhost:8080/",
          "height": 204
        },
        "outputId": "a87f710f-4447-46c6-b96d-1f9d55231a23"
      },
      "source": [
        "%tensorflow_version 1.x\n",
        "import sqlite3\n",
        "# Keras~=2.2.5\n",
        "import pandas as pd\n",
        "import os\n",
        "import keras\n",
        "import numpy as np\n",
        "import keras.backend.tensorflow_backend as K\n",
        "from keras.models import Model, Sequential, load_model\n",
        "from keras.layers import Dense, Embedding, Input, LSTM, Bidirectional, Dropout\n",
        "from keras.preprocessing.text import Tokenizer\n",
        "from keras.preprocessing import sequence\n",
        "import pickle\n",
        "from keras.callbacks import EarlyStopping, ModelCheckpoint\n",
        "from sklearn.model_selection import train_test_split\n",
        "from sklearn.preprocessing import LabelEncoder\n",
        "import matplotlib.pyplot as plt\n",
        "import tensorflow as tf\n",
        "import seaborn as sns\n",
        "config = tf.ConfigProto()\n",
        "config.gpu_options.allow_growth = True\n",
        "session = tf.Session(config=config)\n",
        "\n",
        "#con = sqlite3.connect(\"/content/sorted_tokenized_comments.db\")\n",
        "#tokenized_data = pd.read_sql(\"SELECT * FROM tok_comments\", con)\n",
        "df = pd.read_csv(\"sorted_tokenized_comments.csv\", delimiter= \",\", encoding=\"utf8\")\n",
        "df.comment_body= df.comment_body.astype(str)\n",
        "df.head()\n",
        "\n"
      ],
      "execution_count": null,
      "outputs": [
        {
          "output_type": "execute_result",
          "data": {
            "text/html": [
              "<div>\n",
              "<style scoped>\n",
              "    .dataframe tbody tr th:only-of-type {\n",
              "        vertical-align: middle;\n",
              "    }\n",
              "\n",
              "    .dataframe tbody tr th {\n",
              "        vertical-align: top;\n",
              "    }\n",
              "\n",
              "    .dataframe thead th {\n",
              "        text-align: right;\n",
              "    }\n",
              "</style>\n",
              "<table border=\"1\" class=\"dataframe\">\n",
              "  <thead>\n",
              "    <tr style=\"text-align: right;\">\n",
              "      <th></th>\n",
              "      <th>Unnamed: 0</th>\n",
              "      <th>comment_id</th>\n",
              "      <th>date</th>\n",
              "      <th>title</th>\n",
              "      <th>body</th>\n",
              "      <th>comment_body</th>\n",
              "      <th>is_profanity</th>\n",
              "    </tr>\n",
              "  </thead>\n",
              "  <tbody>\n",
              "    <tr>\n",
              "      <th>0</th>\n",
              "      <td>0</td>\n",
              "      <td>0</td>\n",
              "      <td>2021-04-08 00:04:07</td>\n",
              "      <td>Vladimir Putin Faces Mass Russia Protest as Al...</td>\n",
              "      <td>NaN</td>\n",
              "      <td>he s literally in a prison run partially by ...</td>\n",
              "      <td>yes</td>\n",
              "    </tr>\n",
              "    <tr>\n",
              "      <th>1</th>\n",
              "      <td>1</td>\n",
              "      <td>1</td>\n",
              "      <td>2021-04-08 00:04:07</td>\n",
              "      <td>Vladimir Putin Faces Mass Russia Protest as Al...</td>\n",
              "      <td>NaN</td>\n",
              "      <td>i m sure some hard up prisoner will make that ...</td>\n",
              "      <td>yes</td>\n",
              "    </tr>\n",
              "    <tr>\n",
              "      <th>2</th>\n",
              "      <td>2</td>\n",
              "      <td>2</td>\n",
              "      <td>2021-04-08 00:04:07</td>\n",
              "      <td>Vladimir Putin Faces Mass Russia Protest as Al...</td>\n",
              "      <td>NaN</td>\n",
              "      <td>putin s siberian nightmare    surprised he did...</td>\n",
              "      <td>yes</td>\n",
              "    </tr>\n",
              "    <tr>\n",
              "      <th>3</th>\n",
              "      <td>3</td>\n",
              "      <td>3</td>\n",
              "      <td>2021-04-08 00:04:07</td>\n",
              "      <td>Vladimir Putin Faces Mass Russia Protest as Al...</td>\n",
              "      <td>NaN</td>\n",
              "      <td>i wish you could reach out and stop things lik...</td>\n",
              "      <td>no</td>\n",
              "    </tr>\n",
              "    <tr>\n",
              "      <th>4</th>\n",
              "      <td>4</td>\n",
              "      <td>4</td>\n",
              "      <td>2021-04-08 00:04:07</td>\n",
              "      <td>Vladimir Putin Faces Mass Russia Protest as Al...</td>\n",
              "      <td>NaN</td>\n",
              "      <td>russia   a man is willing to die for what h...</td>\n",
              "      <td>yes</td>\n",
              "    </tr>\n",
              "  </tbody>\n",
              "</table>\n",
              "</div>"
            ],
            "text/plain": [
              "   Unnamed: 0  ...  is_profanity\n",
              "0           0  ...           yes\n",
              "1           1  ...           yes\n",
              "2           2  ...           yes\n",
              "3           3  ...            no\n",
              "4           4  ...           yes\n",
              "\n",
              "[5 rows x 7 columns]"
            ]
          },
          "metadata": {
            "tags": []
          },
          "execution_count": 9
        }
      ]
    },
    {
      "cell_type": "code",
      "metadata": {
        "colab": {
          "base_uri": "https://localhost:8080/"
        },
        "id": "4KH0Sr3BIb2a",
        "outputId": "d8924359-a22e-4d12-8add-2dcf4b15a359"
      },
      "source": [
        "df.drop([\"Unnamed: 0\", \"comment_id\", \"date\", \"title\", \"body\"], axis=1, inplace=True)\n",
        "df.info()"
      ],
      "execution_count": null,
      "outputs": [
        {
          "output_type": "stream",
          "text": [
            "<class 'pandas.core.frame.DataFrame'>\n",
            "RangeIndex: 49533 entries, 0 to 49532\n",
            "Data columns (total 2 columns):\n",
            " #   Column        Non-Null Count  Dtype \n",
            "---  ------        --------------  ----- \n",
            " 0   comment_body  49533 non-null  object\n",
            " 1   is_profanity  49533 non-null  object\n",
            "dtypes: object(2)\n",
            "memory usage: 774.1+ KB\n"
          ],
          "name": "stdout"
        }
      ]
    },
    {
      "cell_type": "code",
      "metadata": {
        "colab": {
          "base_uri": "https://localhost:8080/",
          "height": 204
        },
        "id": "rv3IXhGzIut-",
        "outputId": "2c3de469-44f1-4587-88fd-cb3cbd187524"
      },
      "source": [
        "df.head()"
      ],
      "execution_count": null,
      "outputs": [
        {
          "output_type": "execute_result",
          "data": {
            "text/html": [
              "<div>\n",
              "<style scoped>\n",
              "    .dataframe tbody tr th:only-of-type {\n",
              "        vertical-align: middle;\n",
              "    }\n",
              "\n",
              "    .dataframe tbody tr th {\n",
              "        vertical-align: top;\n",
              "    }\n",
              "\n",
              "    .dataframe thead th {\n",
              "        text-align: right;\n",
              "    }\n",
              "</style>\n",
              "<table border=\"1\" class=\"dataframe\">\n",
              "  <thead>\n",
              "    <tr style=\"text-align: right;\">\n",
              "      <th></th>\n",
              "      <th>comment_body</th>\n",
              "      <th>is_profanity</th>\n",
              "    </tr>\n",
              "  </thead>\n",
              "  <tbody>\n",
              "    <tr>\n",
              "      <th>0</th>\n",
              "      <td>he s literally in a prison run partially by ...</td>\n",
              "      <td>yes</td>\n",
              "    </tr>\n",
              "    <tr>\n",
              "      <th>1</th>\n",
              "      <td>i m sure some hard up prisoner will make that ...</td>\n",
              "      <td>yes</td>\n",
              "    </tr>\n",
              "    <tr>\n",
              "      <th>2</th>\n",
              "      <td>putin s siberian nightmare    surprised he did...</td>\n",
              "      <td>yes</td>\n",
              "    </tr>\n",
              "    <tr>\n",
              "      <th>3</th>\n",
              "      <td>i wish you could reach out and stop things lik...</td>\n",
              "      <td>no</td>\n",
              "    </tr>\n",
              "    <tr>\n",
              "      <th>4</th>\n",
              "      <td>russia   a man is willing to die for what h...</td>\n",
              "      <td>yes</td>\n",
              "    </tr>\n",
              "  </tbody>\n",
              "</table>\n",
              "</div>"
            ],
            "text/plain": [
              "                                        comment_body is_profanity\n",
              "0    he s literally in a prison run partially by ...          yes\n",
              "1  i m sure some hard up prisoner will make that ...          yes\n",
              "2  putin s siberian nightmare    surprised he did...          yes\n",
              "3  i wish you could reach out and stop things lik...           no\n",
              "4     russia   a man is willing to die for what h...          yes"
            ]
          },
          "metadata": {
            "tags": []
          },
          "execution_count": 11
        }
      ]
    },
    {
      "cell_type": "code",
      "metadata": {
        "colab": {
          "base_uri": "https://localhost:8080/",
          "height": 370
        },
        "id": "tycrt72XIx4O",
        "outputId": "dffd437d-fc60-40e9-cba9-b3fcd4e9b6cf"
      },
      "source": [
        "sns.countplot(df.is_profanity)\n",
        "plt.xlabel(\"is_profanity\")\n",
        "plt.title(\"count of profane and none profane comments\")"
      ],
      "execution_count": null,
      "outputs": [
        {
          "output_type": "stream",
          "text": [
            "/usr/local/lib/python3.7/dist-packages/seaborn/_decorators.py:43: FutureWarning: Pass the following variable as a keyword arg: x. From version 0.12, the only valid positional argument will be `data`, and passing other arguments without an explicit keyword will result in an error or misinterpretation.\n",
            "  FutureWarning\n"
          ],
          "name": "stderr"
        },
        {
          "output_type": "execute_result",
          "data": {
            "text/plain": [
              "Text(0.5, 1.0, 'count of profane and none profane comments')"
            ]
          },
          "metadata": {
            "tags": []
          },
          "execution_count": 12
        },
        {
          "output_type": "display_data",
          "data": {
            "image/png": "[encoded data removed]",
            "text/plain": [
              "<Figure size 432x288 with 1 Axes>"
            ]
          },
          "metadata": {
            "tags": [],
            "needs_background": "light"
          }
        }
      ]
    },
    {
      "cell_type": "code",
      "metadata": {
        "colab": {
          "base_uri": "https://localhost:8080/"
        },
        "id": "HM4YbwbBJUz1",
        "outputId": "e0422616-57cd-42e8-c06f-a11d8bd9466c"
      },
      "source": [
        "X = df.comment_body.values\n",
        "y = df.is_profanity.values\n",
        "print(type(X))"
      ],
      "execution_count": null,
      "outputs": [
        {
          "output_type": "stream",
          "text": [
            "<class 'numpy.ndarray'>\n"
          ],
          "name": "stdout"
        }
      ]
    },
    {
      "cell_type": "code",
      "metadata": {
        "colab": {
          "base_uri": "https://localhost:8080/"
        },
        "id": "FqoJNxV0KC5w",
        "outputId": "61cc8ab0-ec1e-4c84-93ed-f42e430af665"
      },
      "source": [
        "label_encoder = LabelEncoder()\n",
        "y = label_encoder.fit_transform(y)\n",
        "print(y)\n"
      ],
      "execution_count": null,
      "outputs": [
        {
          "output_type": "stream",
          "text": [
            "[1 1 1 ... 0 0 0]\n"
          ],
          "name": "stdout"
        }
      ]
    },
    {
      "cell_type": "code",
      "metadata": {
        "id": "LrnA2YKdRWgb"
      },
      "source": [
        "print(y.shape)\n",
        "print(X.shape)"
      ],
      "execution_count": null,
      "outputs": []
    },
    {
      "cell_type": "code",
      "metadata": {
        "id": "4f77h5EU6xrH"
      },
      "source": [
        "X_train, X_test, y_train, y_test = train_test_split(X, y, test_size = 0.2)"
      ],
      "execution_count": null,
      "outputs": []
    },
    {
      "cell_type": "code",
      "metadata": {
        "id": "1X2-FqeCPxxG"
      },
      "source": [
        "max_words = 40000\n",
        "max_len = 1500\n",
        "\n",
        "tok = Tokenizer(num_words=max_words)\n",
        "tok.fit_on_texts(X_train)"
      ],
      "execution_count": null,
      "outputs": []
    },
    {
      "cell_type": "code",
      "metadata": {
        "id": "9H8fE9gG7W-4"
      },
      "source": [
        "sequences = tok.texts_to_sequences(X_train)"
      ],
      "execution_count": null,
      "outputs": []
    },
    {
      "cell_type": "code",
      "metadata": {
        "colab": {
          "base_uri": "https://localhost:8080/"
        },
        "id": "1C6yo5N7arTL",
        "outputId": "ad5ca9db-1a0c-47ec-99e9-32a23e234234"
      },
      "source": [
        "count = 0 \n",
        "for i in sequences:\n",
        "  print(len(i))\n",
        "  count += 1 \n",
        "  if count > 10:\n",
        "    break"
      ],
      "execution_count": null,
      "outputs": [
        {
          "output_type": "stream",
          "text": [
            "10\n",
            "15\n",
            "14\n",
            "19\n",
            "28\n",
            "13\n",
            "12\n",
            "10\n",
            "4\n",
            "2\n",
            "9\n"
          ],
          "name": "stdout"
        }
      ]
    },
    {
      "cell_type": "code",
      "metadata": {
        "colab": {
          "base_uri": "https://localhost:8080/"
        },
        "id": "r4XlmdUehFls",
        "outputId": "f5f7e8fe-ee1b-4400-c5b4-68a2a37c72a7"
      },
      "source": [
        "sequence_matrix = sequence.pad_sequences(sequences, maxlen=max_len)\n",
        "sequence_matrix[0]"
      ],
      "execution_count": null,
      "outputs": [
        {
          "output_type": "execute_result",
          "data": {
            "text/plain": [
              "array([    0,     0,     0, ...,    94,    73, 14860], dtype=int32)"
            ]
          },
          "metadata": {
            "tags": []
          },
          "execution_count": 20
        }
      ]
    },
    {
      "cell_type": "code",
      "metadata": {
        "colab": {
          "base_uri": "https://localhost:8080/"
        },
        "id": "AaDJ-x_jPGtH",
        "outputId": "a75eacfc-0188-42ce-c63c-e433c26a21fb"
      },
      "source": [
        "count = 0 \n",
        "for i in sequence_matrix:\n",
        "  print(i)\n",
        "  count += 1 \n",
        "  if count > 3: \n",
        "    break "
      ],
      "execution_count": null,
      "outputs": [
        {
          "output_type": "stream",
          "text": [
            "[    0     0     0 ...    94    73 14860]\n",
            "[  0   0   0 ...   8 527   8]\n",
            "[   0    0    0 ...    4  799 1170]\n",
            "[  0   0   0 ...   3 983 106]\n"
          ],
          "name": "stdout"
        }
      ]
    },
    {
      "cell_type": "code",
      "metadata": {
        "id": "CFrdgpQXFtkc"
      },
      "source": [
        "with K.tf_ops.device('device:GPU:0'):\n",
        "    model = Sequential()\n",
        "    #max_words to 50 dim. so I will be putting 40000 words in to 50 dim. length of the word would be max_len\n",
        "    model.add(Embedding(max_words, 50, input_length=max_len))\n",
        "    model.add(LSTM(64))\n",
        "    model.add(Dense(256, activation='relu'))\n",
        "    model.add(Dropout(0.5))\n",
        "    model.add(Dense(1, activation='sigmoid'))\n",
        "    \n",
        "    model.compile(loss='binary_crossentropy',optimizer='adam',metrics=['accuracy'])\n",
        "    model_dir = 'saved_model/'\n",
        "    if not os.path.exists(model_dir):\n",
        "        os.mkdir(model_dir)\n",
        "    model_path = model_dir + \"profanity_LSTM\"\n",
        "    \n",
        "    checkpoint = ModelCheckpoint(filepath=model_path, monitor='val_loss', verbose=1, save_best_only=True)\n",
        "    early_stopping = EarlyStopping(monitor='val_loss', patience=10)"
      ],
      "execution_count": null,
      "outputs": []
    },
    {
      "cell_type": "code",
      "metadata": {
        "id": "SWprqJmz-DhZ"
      },
      "source": [
        "!mkdir -p saved_model\n",
        "model.save('saved_model/profanity_LSTM') "
      ],
      "execution_count": null,
      "outputs": []
    },
    {
      "cell_type": "code",
      "metadata": {
        "colab": {
          "base_uri": "https://localhost:8080/"
        },
        "id": "ispjQS8IjWiH",
        "outputId": "03a4ccc1-f546-49ae-a293-8657cad135c4"
      },
      "source": [
        "model.summary()"
      ],
      "execution_count": null,
      "outputs": [
        {
          "output_type": "stream",
          "text": [
            "Model: \"sequential_2\"\n",
            "_________________________________________________________________\n",
            "Layer (type)                 Output Shape              Param #   \n",
            "=================================================================\n",
            "embedding_2 (Embedding)      (None, 1500, 50)          2000000   \n",
            "_________________________________________________________________\n",
            "lstm_2 (LSTM)                (None, 64)                29440     \n",
            "_________________________________________________________________\n",
            "dense_3 (Dense)              (None, 256)               16640     \n",
            "_________________________________________________________________\n",
            "dropout_2 (Dropout)          (None, 256)               0         \n",
            "_________________________________________________________________\n",
            "dense_4 (Dense)              (None, 1)                 257       \n",
            "=================================================================\n",
            "Total params: 2,046,337\n",
            "Trainable params: 2,046,337\n",
            "Non-trainable params: 0\n",
            "_________________________________________________________________\n"
          ],
          "name": "stdout"
        }
      ]
    },
    {
      "cell_type": "code",
      "metadata": {
        "colab": {
          "base_uri": "https://localhost:8080/"
        },
        "id": "0JxQCPcNOw9d",
        "outputId": "4111ae40-fa30-4f1c-febf-adb4e7ca6cc8"
      },
      "source": [
        "hist = model.fit(sequence_matrix, y_train, batch_size=128, epochs=10, validation_split=0.2, callbacks=[checkpoint, early_stopping])"
      ],
      "execution_count": null,
      "outputs": [
        {
          "output_type": "stream",
          "text": [
            "Train on 31700 samples, validate on 7926 samples\n",
            "Epoch 1/10\n",
            "31700/31700 [==============================] - 623s 20ms/step - loss: 0.4051 - accuracy: 0.8080 - val_loss: 0.2462 - val_accuracy: 0.8983\n",
            "\n",
            "Epoch 00001: val_loss improved from inf to 0.24621, saving model to saved_model/profanity_LSTM\n",
            "Epoch 2/10\n",
            "31700/31700 [==============================] - 630s 20ms/step - loss: 0.1424 - accuracy: 0.9508 - val_loss: 0.2168 - val_accuracy: 0.9195\n",
            "\n",
            "Epoch 00002: val_loss improved from 0.24621 to 0.21679, saving model to saved_model/profanity_LSTM\n",
            "Epoch 3/10\n",
            "31700/31700 [==============================] - 630s 20ms/step - loss: 0.0707 - accuracy: 0.9777 - val_loss: 0.2316 - val_accuracy: 0.9233\n",
            "\n",
            "Epoch 00003: val_loss did not improve from 0.21679\n",
            "Epoch 4/10\n",
            "31700/31700 [==============================] - 644s 20ms/step - loss: 0.0408 - accuracy: 0.9877 - val_loss: 0.2824 - val_accuracy: 0.9185\n",
            "\n",
            "Epoch 00004: val_loss did not improve from 0.21679\n",
            "Epoch 5/10\n",
            "31700/31700 [==============================] - 624s 20ms/step - loss: 0.0335 - accuracy: 0.9893 - val_loss: 0.3133 - val_accuracy: 0.9304\n",
            "\n",
            "Epoch 00005: val_loss did not improve from 0.21679\n",
            "Epoch 6/10\n",
            "31700/31700 [==============================] - 628s 20ms/step - loss: 0.0245 - accuracy: 0.9928 - val_loss: 0.3100 - val_accuracy: 0.9268\n",
            "\n",
            "Epoch 00006: val_loss did not improve from 0.21679\n",
            "Epoch 7/10\n",
            "31700/31700 [==============================] - 674s 21ms/step - loss: 0.0190 - accuracy: 0.9944 - val_loss: 0.3810 - val_accuracy: 0.9287\n",
            "\n",
            "Epoch 00007: val_loss did not improve from 0.21679\n",
            "Epoch 8/10\n",
            "31700/31700 [==============================] - 627s 20ms/step - loss: 0.0199 - accuracy: 0.9942 - val_loss: 0.3649 - val_accuracy: 0.9275\n",
            "\n",
            "Epoch 00008: val_loss did not improve from 0.21679\n",
            "Epoch 9/10\n",
            "31700/31700 [==============================] - 601s 19ms/step - loss: 0.0156 - accuracy: 0.9956 - val_loss: 0.3737 - val_accuracy: 0.9291\n",
            "\n",
            "Epoch 00009: val_loss did not improve from 0.21679\n",
            "Epoch 10/10\n",
            "31700/31700 [==============================] - 594s 19ms/step - loss: 0.0120 - accuracy: 0.9971 - val_loss: 0.3727 - val_accuracy: 0.9302\n",
            "\n",
            "Epoch 00010: val_loss did not improve from 0.21679\n"
          ],
          "name": "stdout"
        }
      ]
    },
    {
      "cell_type": "code",
      "metadata": {
        "colab": {
          "base_uri": "https://localhost:8080/"
        },
        "id": "Hl304XakGjUQ",
        "outputId": "0ef857a3-5f1e-41c2-8144-78d97995ea27"
      },
      "source": [
        "sequences_test = tok.texts_to_sequences(X_test)\n",
        "sequences_matrix_test = sequence.pad_sequences(sequences_test, maxlen=max_len)\n",
        "print(\"Accuracy : %.4f\" % (model.evaluate(sequences_matrix_test, y_test)[1]))"
      ],
      "execution_count": null,
      "outputs": [
        {
          "output_type": "stream",
          "text": [
            "9907/9907 [==============================] - 69s 7ms/step\n",
            "Accuracy : 0.9299\n"
          ],
          "name": "stdout"
        }
      ]
    },
    {
      "cell_type": "code",
      "metadata": {
        "colab": {
          "base_uri": "https://localhost:8080/",
          "height": 278
        },
        "id": "FmP2d-Bafk1K",
        "outputId": "a34f307d-82e3-4bfa-e074-4bc44faa7174"
      },
      "source": [
        "y_vloss = hist.history['val_loss']\n",
        "y_loss = hist.history['loss']\n",
        "\n",
        "x_len = np.arange(len(y_loss))\n",
        "\n",
        "plt.plot(x_len, y_vloss, marker='.', c='red', label='val_set_loss')\n",
        "plt.plot(x_len, y_loss, marker='.', c='blue', label='train_set_loss')\n",
        "plt.legend()\n",
        "plt.xlabel('epochs')\n",
        "plt.ylabel('loss')\n",
        "plt.grid()\n",
        "plt.show()"
      ],
      "execution_count": null,
      "outputs": [
        {
          "output_type": "display_data",
          "data": {
            "image/png": "[encoded data removed]",
            "text/plain": [
              "<Figure size 432x288 with 1 Axes>"
            ]
          },
          "metadata": {
            "tags": [],
            "needs_background": "light"
          }
        }
      ]
    },
    {
      "cell_type": "code",
      "metadata": {
        "colab": {
          "base_uri": "https://localhost:8080/",
          "height": 278
        },
        "id": "ZPmR8hVSfsfC",
        "outputId": "35c9e0bd-27a9-4cc4-82cd-2508364003e1"
      },
      "source": [
        "y_vloss = hist.history['val_accuracy']\n",
        "y_loss = hist.history['accuracy']\n",
        "\n",
        "x_len = np.arange(len(y_loss))\n",
        "\n",
        "plt.plot(x_len, y_vloss, marker='.', c='red', label='val_accuracy')\n",
        "plt.plot(x_len, y_loss, marker='.', c='blue', label='train_accuracy')\n",
        "plt.legend()\n",
        "plt.xlabel('epochs')\n",
        "plt.ylabel('accuracy')\n",
        "plt.grid()\n",
        "plt.show()"
      ],
      "execution_count": null,
      "outputs": [
        {
          "output_type": "display_data",
          "data": {
            "image/png": "[encoded data removed]",
            "text/plain": [
              "<Figure size 432x288 with 1 Axes>"
            ]
          },
          "metadata": {
            "tags": [],
            "needs_background": "light"
          }
        }
      ]
    },
    {
      "cell_type": "code",
      "metadata": {
        "colab": {
          "base_uri": "https://localhost:8080/"
        },
        "id": "aYn7xf7vH0Hu",
        "outputId": "ab19a378-47a9-4137-bc0a-625474e686b2"
      },
      "source": [
        "new_model = tf.keras.models.load_model(\"saved_model/profanity_LSTM\")\n",
        "new_model.summary()"
      ],
      "execution_count": null,
      "outputs": [
        {
          "output_type": "stream",
          "text": [
            "Model: \"sequential_2\"\n",
            "_________________________________________________________________\n",
            "Layer (type)                 Output Shape              Param #   \n",
            "=================================================================\n",
            "embedding_2 (Embedding)      (None, 1500, 50)          2000000   \n",
            "_________________________________________________________________\n",
            "lstm_2 (LSTM)                (None, 64)                29440     \n",
            "_________________________________________________________________\n",
            "dense_3 (Dense)              (None, 256)               16640     \n",
            "_________________________________________________________________\n",
            "dropout_2 (Dropout)          (None, 256)               0         \n",
            "_________________________________________________________________\n",
            "dense_4 (Dense)              (None, 1)                 257       \n",
            "=================================================================\n",
            "Total params: 2,046,337\n",
            "Trainable params: 2,046,337\n",
            "Non-trainable params: 0\n",
            "_________________________________________________________________\n"
          ],
          "name": "stdout"
        }
      ]
    },
    {
      "cell_type": "code",
      "metadata": {
        "id": "1euhJJoWIgJc"
      },
      "source": [
        "string = [\"Shit. I think I forgot my keys.\", \"I am happy.\", \"Are you sure?\", \"Fck. I think he should step down.\"]"
      ],
      "execution_count": null,
      "outputs": []
    },
    {
      "cell_type": "code",
      "metadata": {
        "id": "MuEvxI_JJF3X"
      },
      "source": [
        "tokenized_string = tok.texts_to_sequences(string)"
      ],
      "execution_count": null,
      "outputs": []
    },
    {
      "cell_type": "code",
      "metadata": {
        "colab": {
          "base_uri": "https://localhost:8080/"
        },
        "id": "FEIEuOXlJKQO",
        "outputId": "9b3ad539-5e22-4feb-de4b-c6bb04ce1148"
      },
      "source": [
        "tokenized_string"
      ],
      "execution_count": null,
      "outputs": [
        {
          "output_type": "execute_result",
          "data": {
            "text/plain": [
              "[[154, 6, 74, 6, 1195, 27, 4049],\n",
              " [6, 250, 488],\n",
              " [19, 12, 140],\n",
              " [18233, 6, 74, 36, 125, 956, 157]]"
            ]
          },
          "metadata": {
            "tags": []
          },
          "execution_count": 66
        }
      ]
    },
    {
      "cell_type": "code",
      "metadata": {
        "id": "9pqtNRyUJQFJ"
      },
      "source": [
        "tokenized_string = sequence.pad_sequences(tokenized_string, maxlen = 1500)"
      ],
      "execution_count": null,
      "outputs": []
    },
    {
      "cell_type": "code",
      "metadata": {
        "colab": {
          "base_uri": "https://localhost:8080/"
        },
        "id": "qhydh2bhJVrw",
        "outputId": "c48438f9-1343-47ae-9514-6c634ae0482f"
      },
      "source": [
        "tokenized_string"
      ],
      "execution_count": null,
      "outputs": [
        {
          "output_type": "execute_result",
          "data": {
            "text/plain": [
              "array([[   0,    0,    0, ..., 1195,   27, 4049],\n",
              "       [   0,    0,    0, ...,    6,  250,  488],\n",
              "       [   0,    0,    0, ...,   19,   12,  140],\n",
              "       [   0,    0,    0, ...,  125,  956,  157]], dtype=int32)"
            ]
          },
          "metadata": {
            "tags": []
          },
          "execution_count": 68
        }
      ]
    },
    {
      "cell_type": "code",
      "metadata": {
        "id": "XBj8sRJlJaq3"
      },
      "source": [
        "prediction = model.predict(tokenized_string)"
      ],
      "execution_count": null,
      "outputs": []
    },
    {
      "cell_type": "code",
      "metadata": {
        "colab": {
          "base_uri": "https://localhost:8080/"
        },
        "id": "K8EGbhxJJgKr",
        "outputId": "e785c063-16d3-4111-c766-a2c1fc42b6e2"
      },
      "source": [
        "prediction"
      ],
      "execution_count": null,
      "outputs": [
        {
          "output_type": "execute_result",
          "data": {
            "text/plain": [
              "array([[9.4132811e-01],\n",
              "       [8.0493570e-05],\n",
              "       [4.8723463e-03],\n",
              "       [9.9921918e-01]], dtype=float32)"
            ]
          },
          "metadata": {
            "tags": []
          },
          "execution_count": 70
        }
      ]
    },
    {
      "cell_type": "code",
      "metadata": {
        "colab": {
          "base_uri": "https://localhost:8080/"
        },
        "id": "D8uaIzuOKIM6",
        "outputId": "fd35063a-1cdc-428a-a3ae-07c477eb4fc9"
      },
      "source": [
        "for word in prediction:\n",
        "  if word > 0.5 : print(\"profanity \")\n",
        "  else: print(\"not profanity\") "
      ],
      "execution_count": null,
      "outputs": [
        {
          "output_type": "stream",
          "text": [
            "profanity \n",
            "not profanity\n",
            "not profanity\n",
            "profanity \n"
          ],
          "name": "stdout"
        }
      ]
    }
  ]
}